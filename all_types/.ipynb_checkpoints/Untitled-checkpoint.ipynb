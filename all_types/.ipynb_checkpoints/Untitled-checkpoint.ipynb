{
 "cells": [
  {
   "cell_type": "code",
   "execution_count": 1,
   "id": "82e12da5-5cb6-453b-9890-9cc19acf99df",
   "metadata": {},
   "outputs": [],
   "source": [
    "from typing import Dict, List, TypeVar, Generic, Optional, Literal\n",
    "\n",
    "from pydantic import BaseModel, Field\n",
    "\n",
    "U = TypeVar(\"U\")\n",
    "\n",
    "class Coordinate(BaseModel):\n",
    "    lat: Optional[float] = None\n",
    "    lng: Optional[float] = None\n",
    "\n",
    "\n",
    "class ReqUserId(BaseModel):\n",
    "    user_id: str\n",
    "\n",
    "\n",
    "class ReqModel(BaseModel, Generic[U]):\n",
    "    message: str\n",
    "    request_info: Dict\n",
    "    request_body: U\n",
    "\n",
    "\n",
    "class ReqCityCountry(BaseModel):\n",
    "    city_name: str\n",
    "    country_name: str\n",
    "\n",
    "class ReqPrdcerLyrMapData(ReqUserId):\n",
    "    prdcer_lyr_id: Optional[str] = \"\"\n",
    "\n",
    "\n",
    "class ReqFetchDataset(ReqCityCountry, ReqPrdcerLyrMapData, Coordinate):\n",
    "    boolean_query: Optional[str] = \"\"\n",
    "    action: Optional[str] = \"\"\n",
    "    page_token: Optional[str] = \"\"\n",
    "    search_type: Optional[str] = \"default\"\n",
    "    text_search: Optional[str] = \"\"\n",
    "    zoom_level: Optional[int] = 0\n",
    "    radius: Optional[float] = 30000.0\n",
    "    _bounding_box: Optional[list[float]] = []\n",
    "    _included_types: Optional[list[str]] = []\n",
    "    _excluded_types: Optional[list[str]] = []\n",
    "\n",
    "\n",
    "class ReqLLMFetchDataset(BaseModel):\n",
    "    \"\"\"Extract Location Based Information from the Query\"\"\"\n",
    "\n",
    "    query: str = Field(\n",
    "        default = \"\",\n",
    "        description = \"Original query passed by the user.\"\n",
    "    )\n",
    "    queryStatus: Literal[\"Valid\", \"Invalid\"] = Field(\n",
    "        default=\"Valid\",\n",
    "        description=\"Status of the query that depends on approved categories.It must be either 'Valid' or 'Invalid'\"\n",
    "    )\n",
    "    message: str = Field(\n",
    "        default = \"\",\n",
    "        description = \"Response message for the User after processing the query. It helps user to identify issues in the query\"\n",
    "    )\n",
    "    requestStatus: Literal[\"Processed\", \"NotProcessed\"] = Field(\n",
    "        default=\"NotProcessed\",\n",
    "        description=\"Set to processed whenever an LLM encounters the query is processed by the LLM\"\n",
    "    )\n",
    "    fetch_dataset_request: Optional[ReqFetchDataset] = Field(\n",
    "        default=None,\n",
    "        description=\"An object containing detailed request parameters for fetching dataset\"\n",
    "    )\n",
    "    cost: str = Field(\n",
    "        default = '',\n",
    "        description = \"The cost value returned by calculate_cost_tool\"\n",
    "    )"
   ]
  },
  {
   "cell_type": "code",
   "execution_count": 2,
   "id": "4a51aa34-986a-4db2-bc4c-20520e4d3d85",
   "metadata": {},
   "outputs": [],
   "source": [
    "from typing import Dict, List, TypeVar, Generic, Literal, Any, Optional, Union\n",
    "\n",
    "T = TypeVar(\"T\")\n",
    "\n",
    "class ResModel(BaseModel, Generic[T]):\n",
    "    message: str\n",
    "    request_id: str\n",
    "    data: T\n",
    "\n",
    "\n",
    "class ResLLMFetchDataset(BaseModel):\n",
    "    \"\"\"Extract Location Based Information from the Query\"\"\"\n",
    "\n",
    "    query: str = Field(\n",
    "        default = \"\",\n",
    "        description = \"Original query passed by the user.\"\n",
    "    )\n",
    "    queryStatus: Literal[\"Valid\", \"Invalid\"] = Field(\n",
    "        default=\"Valid\",\n",
    "        description=\"Status of the query that depends on approved categories.It must be either 'Valid' or 'Invalid'\"\n",
    "    )\n",
    "    message: str = Field(\n",
    "        default = \"\",\n",
    "        description = \"Response message for the User after processing the query. It helps user to identify issues in the query\"\n",
    "    )\n",
    "    requestStatus: Literal[\"Processed\", \"NotProcessed\"] = Field(\n",
    "        default=\"NotProcessed\",\n",
    "        description=\"Set to processed whenever an LLM encounters the query is processed by the LLM\"\n",
    "    )\n",
    "    fetch_dataset_request: Optional[ReqFetchDataset] = Field(\n",
    "        default=None,\n",
    "        description=\"An object containing detailed request parameters for fetching dataset\"\n",
    "    )\n",
    "    cost: str = Field(\n",
    "        default = '',\n",
    "        description = \"The cost value returned by calculate_cost_tool\"\n",
    "    )"
   ]
  },
  {
   "cell_type": "code",
   "execution_count": 16,
   "id": "af1ec830-92c8-4269-8bec-911851d54af1",
   "metadata": {},
   "outputs": [],
   "source": [
    "data = {\n",
    "  \"query\": \"\",\n",
    "  \"queryStatus\": \"Valid\",\n",
    "  \"message\": \"\",\n",
    "  \"requestStatus\": \"NotProcessed\",\n",
    "  \"fetch_dataset_request\": {\n",
    "    \"lat\": 0,\n",
    "    \"lng\": 0,\n",
    "    \"user_id\": \"string\",\n",
    "    \"prdcer_lyr_id\": \"\",\n",
    "    \"city_name\": \"string\",\n",
    "    \"country_name\": \"string\",\n",
    "    \"boolean_query\": \"\",\n",
    "    \"action\": \"\",\n",
    "    \"page_token\": \"\",\n",
    "    \"search_type\": \"default\",\n",
    "    \"text_search\": \"\",\n",
    "    \"zoom_level\": 0,\n",
    "    \"radius\": 30000\n",
    "  },\n",
    "  \"cost\": \"\"\n",
    "}\n",
    "\n",
    "\n",
    "Request_body = ResLLMFetchDataset(**data)\n"
   ]
  },
  {
   "cell_type": "code",
   "execution_count": 17,
   "id": "6502af15-8849-47af-807e-125eb52fe682",
   "metadata": {},
   "outputs": [
    {
     "data": {
      "text/plain": [
       "ResLLMFetchDataset(query='', queryStatus='Valid', message='', requestStatus='NotProcessed', fetch_dataset_request=ReqFetchDataset(lat=0.0, lng=0.0, user_id='string', prdcer_lyr_id='', city_name='string', country_name='string', boolean_query='', action='', page_token='', search_type='default', text_search='', zoom_level=0, radius=30000.0), cost='')"
      ]
     },
     "execution_count": 17,
     "metadata": {},
     "output_type": "execute_result"
    }
   ],
   "source": [
    "Request_body"
   ]
  },
  {
   "cell_type": "raw",
   "id": "7fb39e7b-180e-4003-9364-298ae7f0cb3c",
   "metadata": {},
   "source": [
    "We have to create a validated function that takes in a query and ouputs data in a structured format. We will use pydantic out put parser"
   ]
  },
  {
   "cell_type": "code",
   "execution_count": null,
   "id": "f756f91e-ca2b-4164-a4d7-64f21b420ea4",
   "metadata": {},
   "outputs": [],
   "source": []
  },
  {
   "cell_type": "code",
   "execution_count": 21,
   "id": "9f508507-eb17-4da0-906e-b92b0c92d173",
   "metadata": {},
   "outputs": [
    {
     "data": {
      "text/plain": [
       "ResLLMFetchDataset(query='Find banks in Dubai', queryStatus='Valid', message='', requestStatus='NotProcessed', fetch_dataset_request=ReqFetchDataset(lat=None, lng=None, user_id='', prdcer_lyr_id='', city_name='Dubai', country_name='United Arab Emirates', boolean_query='', action='', page_token='', search_type='default', text_search='', zoom_level=0, radius=30000.0), cost='')"
      ]
     },
     "execution_count": 21,
     "metadata": {},
     "output_type": "execute_result"
    }
   ],
   "source": [
    "from langchain_core.output_parsers import PydanticOutputParser\n",
    "from langchain_core.prompts import PromptTemplate\n",
    "from langchain_openai import OpenAI\n",
    "from pydantic import BaseModel, Field, model_validator\n",
    "\n",
    "model = OpenAI(model_name=\"gpt-3.5-turbo-instruct\", temperature=0.0)\n",
    "\n",
    "parser = PydanticOutputParser(pydantic_object=ResLLMFetchDataset)\n",
    "\n",
    "prompt = PromptTemplate(\n",
    "    template=\"Answer the user query.\\n{format_instructions}\\n{query}\\n\",\n",
    "    input_variables=[\"query\"],\n",
    "    partial_variables={\"format_instructions\": parser.get_format_instructions()},\n",
    ")\n",
    "\n",
    "# And a query intended to prompt a language model to populate the data structure.\n",
    "prompt_and_model = prompt | model\n",
    "output = prompt_and_model.invoke({\"query\": \"Find banks in Dubai\"})\n",
    "parser.invoke(output)"
   ]
  },
  {
   "cell_type": "code",
   "execution_count": 22,
   "id": "dce17168-683b-4d51-a328-bd632fa57eb0",
   "metadata": {},
   "outputs": [],
   "source": [
    "import requests\n",
    "\n",
    "def fetch_approved_data(url: str):\n",
    "    \"\"\"\n",
    "    Sends a GET request to the specified API endpoint.\n",
    "\n",
    "    :param url: The API URL to call.\n",
    "    :return: Response JSON or None if the request fails.\n",
    "    \"\"\"\n",
    "    headers = {\"accept\": \"application/json\"}\n",
    "\n",
    "    try:\n",
    "        response = requests.get(url, headers=headers)\n",
    "        response.raise_for_status()  # Raises an error for HTTP failures (4xx, 5xx)\n",
    "        return response.json()\n",
    "    except requests.exceptions.RequestException as e:\n",
    "        print(f\"API request failed: {e}\")\n",
    "        return None  # Return None if the request fails\n",
    "\n",
    "def extract_countries_and_cities(data):\n",
    "    \"\"\"\n",
    "    Extracts separate lists of countries and cities from the given data.\n",
    "\n",
    "    :param data: Dictionary containing countries as keys and city details as values.\n",
    "    :return: Tuple (countries_list, cities_list)\n",
    "    \"\"\"\n",
    "    if not data:  # Handle None or empty data safely\n",
    "        return [], []\n",
    "\n",
    "    countries = list(data.keys())  # Extract country names\n",
    "    cities = [city[\"name\"] for cities in data.values() for city in cities]  # Extract all city names\n",
    "\n",
    "    return countries, cities"
   ]
  },
  {
   "cell_type": "code",
   "execution_count": null,
   "id": "89a1e379-d482-482a-a7f0-04c016e7d5d2",
   "metadata": {},
   "outputs": [],
   "source": []
  }
 ],
 "metadata": {
  "kernelspec": {
   "display_name": "Python 3 (ipykernel)",
   "language": "python",
   "name": "python3"
  },
  "language_info": {
   "codemirror_mode": {
    "name": "ipython",
    "version": 3
   },
   "file_extension": ".py",
   "mimetype": "text/x-python",
   "name": "python",
   "nbconvert_exporter": "python",
   "pygments_lexer": "ipython3",
   "version": "3.11.4"
  }
 },
 "nbformat": 4,
 "nbformat_minor": 5
}
