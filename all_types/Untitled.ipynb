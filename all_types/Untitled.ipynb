{
 "cells": [
  {
   "cell_type": "code",
   "execution_count": 1,
   "id": "82e12da5-5cb6-453b-9890-9cc19acf99df",
   "metadata": {},
   "outputs": [],
   "source": [
    "from typing import Dict, List, TypeVar, Generic, Optional, Literal\n",
    "\n",
    "from pydantic import BaseModel, Field\n",
    "\n",
    "U = TypeVar(\"U\")\n",
    "\n",
    "class Coordinate(BaseModel):\n",
    "    lat: Optional[float] = None\n",
    "    lng: Optional[float] = None\n",
    "\n",
    "\n",
    "class ReqUserId(BaseModel):\n",
    "    user_id: str\n",
    "\n",
    "\n",
    "class ReqModel(BaseModel, Generic[U]):\n",
    "    message: str\n",
    "    request_info: Dict\n",
    "    request_body: U\n",
    "\n",
    "\n",
    "class ReqCityCountry(BaseModel):\n",
    "    city_name: str\n",
    "    country_name: str\n",
    "\n",
    "class ReqPrdcerLyrMapData(ReqUserId):\n",
    "    prdcer_lyr_id: Optional[str] = \"\"\n",
    "\n",
    "\n",
    "class ReqFetchDataset(ReqCityCountry, ReqPrdcerLyrMapData, Coordinate):\n",
    "    boolean_query: Optional[str] = \"\"\n",
    "    action: Optional[str] = \"\"\n",
    "    page_token: Optional[str] = \"\"\n",
    "    search_type: Optional[str] = \"default\"\n",
    "    text_search: Optional[str] = \"\"\n",
    "    zoom_level: Optional[int] = 0\n",
    "    radius: Optional[float] = 30000.0\n",
    "    _bounding_box: Optional[list[float]] = []\n",
    "    _included_types: Optional[list[str]] = []\n",
    "    _excluded_types: Optional[list[str]] = []\n",
    "\n",
    "\n",
    "class ReqLLMFetchDataset(BaseModel):\n",
    "    \"\"\"Extract Location Based Information from the Query\"\"\"\n",
    "\n",
    "    query: str = Field(\n",
    "        default = \"\",\n",
    "        description = \"Original query passed by the user.\"\n",
    "    )\n",
    "    queryStatus: Literal[\"Valid\", \"Invalid\"] = Field(\n",
    "        default=\"Valid\",\n",
    "        description=\"Status of the query that depends on approved categories.It must be either 'Valid' or 'Invalid'\"\n",
    "    )\n",
    "    message: str = Field(\n",
    "        default = \"\",\n",
    "        description = \"Response message for the User after processing the query. It helps user to identify issues in the query\"\n",
    "    )\n",
    "    requestStatus: Literal[\"Processed\", \"NotProcessed\"] = Field(\n",
    "        default=\"NotProcessed\",\n",
    "        description=\"Set to processed whenever an LLM encounters the query is processed by the LLM\"\n",
    "    )\n",
    "    fetch_dataset_request: Optional[ReqFetchDataset] = Field(\n",
    "        default=None,\n",
    "        description=\"An object containing detailed request parameters for fetching dataset\"\n",
    "    )\n",
    "    cost: str = Field(\n",
    "        default = '',\n",
    "        description = \"The cost value returned by calculate_cost_tool\"\n",
    "    )"
   ]
  },
  {
   "cell_type": "code",
   "execution_count": 2,
   "id": "4a51aa34-986a-4db2-bc4c-20520e4d3d85",
   "metadata": {},
   "outputs": [],
   "source": [
    "from typing import Dict, List, TypeVar, Generic, Literal, Any, Optional, Union\n",
    "\n",
    "T = TypeVar(\"T\")\n",
    "\n",
    "class ResModel(BaseModel, Generic[T]):\n",
    "    message: str\n",
    "    request_id: str\n",
    "    data: T\n",
    "\n",
    "\n",
    "class ResLLMFetchDataset(BaseModel):\n",
    "    \"\"\"Extract Location Based Information from the Query\"\"\"\n",
    "\n",
    "    query: str = Field(\n",
    "        default = \"\",\n",
    "        description = \"Original query passed by the user.\"\n",
    "    )\n",
    "    queryStatus: Literal[\"Valid\", \"Invalid\"] = Field(\n",
    "        default=\"Valid\",\n",
    "        description=\"Status of the query that depends on approved categories.It must be either 'Valid' or 'Invalid'\"\n",
    "    )\n",
    "    message: str = Field(\n",
    "        default = \"\",\n",
    "        description = \"Response message for the User after processing the query. It helps user to identify issues in the query\"\n",
    "    )\n",
    "    requestStatus: Literal[\"Processed\", \"NotProcessed\"] = Field(\n",
    "        default=\"NotProcessed\",\n",
    "        description=\"Set to processed whenever an LLM encounters the query is processed by the LLM\"\n",
    "    )\n",
    "    fetch_dataset_request: Optional[ReqFetchDataset] = Field(\n",
    "        default=None,\n",
    "        description=\"An object containing detailed request parameters for fetching dataset\"\n",
    "    )\n",
    "    cost: str = Field(\n",
    "        default = '',\n",
    "        description = \"The cost value returned by calculate_cost_tool\"\n",
    "    )"
   ]
  },
  {
   "cell_type": "code",
   "execution_count": 16,
   "id": "af1ec830-92c8-4269-8bec-911851d54af1",
   "metadata": {},
   "outputs": [],
   "source": [
    "data = {\n",
    "  \"query\": \"\",\n",
    "  \"queryStatus\": \"Valid\",\n",
    "  \"message\": \"\",\n",
    "  \"requestStatus\": \"NotProcessed\",\n",
    "  \"fetch_dataset_request\": {\n",
    "    \"lat\": 0,\n",
    "    \"lng\": 0,\n",
    "    \"user_id\": \"string\",\n",
    "    \"prdcer_lyr_id\": \"\",\n",
    "    \"city_name\": \"string\",\n",
    "    \"country_name\": \"string\",\n",
    "    \"boolean_query\": \"\",\n",
    "    \"action\": \"\",\n",
    "    \"page_token\": \"\",\n",
    "    \"search_type\": \"default\",\n",
    "    \"text_search\": \"\",\n",
    "    \"zoom_level\": 0,\n",
    "    \"radius\": 30000\n",
    "  },\n",
    "  \"cost\": \"\"\n",
    "}\n",
    "\n",
    "\n",
    "Request_body = ResLLMFetchDataset(**data)\n"
   ]
  },
  {
   "cell_type": "code",
   "execution_count": 17,
   "id": "6502af15-8849-47af-807e-125eb52fe682",
   "metadata": {},
   "outputs": [
    {
     "data": {
      "text/plain": [
       "ResLLMFetchDataset(query='', queryStatus='Valid', message='', requestStatus='NotProcessed', fetch_dataset_request=ReqFetchDataset(lat=0.0, lng=0.0, user_id='string', prdcer_lyr_id='', city_name='string', country_name='string', boolean_query='', action='', page_token='', search_type='default', text_search='', zoom_level=0, radius=30000.0), cost='')"
      ]
     },
     "execution_count": 17,
     "metadata": {},
     "output_type": "execute_result"
    }
   ],
   "source": [
    "Request_body"
   ]
  },
  {
   "cell_type": "raw",
   "id": "7fb39e7b-180e-4003-9364-298ae7f0cb3c",
   "metadata": {},
   "source": [
    "We have to create a validated function that takes in a query and ouputs data in a structured format. We will use pydantic out put parser"
   ]
  },
  {
   "cell_type": "code",
   "execution_count": 25,
   "id": "dce17168-683b-4d51-a328-bd632fa57eb0",
   "metadata": {},
   "outputs": [],
   "source": [
    "import requests\n",
    "\n",
    "def fetch_approved_data(url: str):\n",
    "    \"\"\"\n",
    "    Sends a GET request to the specified API endpoint.\n",
    "\n",
    "    :param url: The API URL to call.\n",
    "    :return: Response JSON or None if the request fails.\n",
    "    \"\"\"\n",
    "    headers = {\"accept\": \"application/json\"}\n",
    "\n",
    "    try:\n",
    "        response = requests.get(url, headers=headers)\n",
    "        response.raise_for_status()  # Raises an error for HTTP failures (4xx, 5xx)\n",
    "        return response.json()\n",
    "    except requests.exceptions.RequestException as e:\n",
    "        print(f\"API request failed: {e}\")\n",
    "        return None  # Return None if the request fails\n",
    "\n",
    "def extract_countries_and_cities(data):\n",
    "    \"\"\"\n",
    "    Extracts separate lists of countries and cities from the given data.\n",
    "\n",
    "    :param data: Dictionary containing countries as keys and city details as values.\n",
    "    :return: Tuple (countries_list, cities_list)\n",
    "    \"\"\"\n",
    "    if not data:  # Handle None or empty data safely\n",
    "        return [], []\n",
    "\n",
    "    countries = list(data.keys())  # Extract country names\n",
    "    cities = [city[\"name\"] for cities in data.values() for city in cities]  # Extract all city names\n",
    "\n",
    "    return countries, cities"
   ]
  },
  {
   "cell_type": "code",
   "execution_count": 27,
   "id": "f756f91e-ca2b-4164-a4d7-64f21b420ea4",
   "metadata": {},
   "outputs": [],
   "source": [
    "country_city_data = fetch_approved_data(\"http://37.27.195.216:8000/fastapi/country_city\")\n",
    "category_data = fetch_approved_data(\"http://37.27.195.216:8000/fastapi/nearby_categories\")\n",
    "if country_city_data and \"data\" in country_city_data:\n",
    "    Approved_Countries, Approved_Cities = extract_countries_and_cities(country_city_data[\"data\"])\n",
    "else:\n",
    "    Approved_Countries, Approved_Cities = [], []\n",
    "    print(\"Warning: Failed to fetch approved countries and cities.\")\n",
    "\n",
    "if category_data and \"data\" in category_data:\n",
    "    Approved_Categories = category_data[\"data\"]\n",
    "else:\n",
    "    Approved_Categories = []\n",
    "    print(\"Warning: Failed to fetch approved categories.\")\n"
   ]
  },
  {
   "cell_type": "code",
   "execution_count": 31,
   "id": "8986bccd-56e5-4e98-ab0c-1dc7b9db8265",
   "metadata": {},
   "outputs": [],
   "source": [
    "system_message = \"\"\"You are an intelligent assistant that extracts structured data for a location-based search API. Only process queries that specifically request \n",
    "                        information about places in a city or country. Add the country name automatically and try to be consistent.\n",
    "                        \n",
    "                        Reject queries that:\n",
    "                        1. Do not explicitly mention searching for a place (e.g., \"How to dance in Dubai\" or \"Weather in Paris\").\n",
    "                        2. Are general knowledge or instructional queries (e.g., \"History of London\" or \"How to apply for a visa\").\n",
    "                        3. Contain inappropriate, offensive, illegal, or nonsensical requests.\n",
    "                        4. Do not belong to the approved categories for places (e.g. tea shops is not an approved category)\n",
    "                        5. Do not belong to approved cities and countries.\n",
    "                        6. Contain multiple cities or countries\n",
    "                        7. Do not contain a city name\n",
    "                        \n",
    "                        #Approved Categories for Places#\n",
    "                        {Approved_Categories}\n",
    "                        # Approved Countries #\n",
    "                        {Approved_Countries}                     \n",
    "                        # Approved Cities #\n",
    "                        {Approved_Cities} \n",
    "                        \n",
    "                        #Formation of Boolean Queries\n",
    "                        1. Boolean Query is a string formed by joining all the places in the query by 'OR' / 'AND'\n",
    "                        2. Examine the user query semantically and construct a Boolean Query\n",
    "\n",
    "\n",
    "\n",
    "                    \"\"\""
   ]
  },
  {
   "cell_type": "code",
   "execution_count": 41,
   "id": "9f508507-eb17-4da0-906e-b92b0c92d173",
   "metadata": {},
   "outputs": [],
   "source": [
    "from langchain_core.output_parsers import PydanticOutputParser\n",
    "from langchain_core.prompts import PromptTemplate\n",
    "from langchain_openai import ChatOpenAI\n",
    "from pydantic import BaseModel, Field, model_validator\n",
    "\n",
    "model = ChatOpenAI(model_name=\"gpt-4-turbo-preview\", temperature=0.0)\n",
    "\n",
    "parser = PydanticOutputParser(pydantic_object=ResLLMFetchDataset)\n",
    "\n",
    "prompt = PromptTemplate(\n",
    "    template=\"{system_message}.\\n{format_instructions}\\n{query}\\n\",\n",
    "    input_variables=[\"query\"],\n",
    "    partial_variables={\"format_instructions\": parser.get_format_instructions()},\n",
    ")\n",
    "\n",
    "# And a query intended to prompt a language model to populate the data structure.\n",
    "prompt_and_model = prompt | model\n",
    "output = prompt_and_model.invoke({\"query\": \"Find banks and pharmacies in Toronto\",\"system_message\":system_message})\n",
    "outputResponse = parser.invoke(output)"
   ]
  },
  {
   "cell_type": "code",
   "execution_count": 42,
   "id": "89a1e379-d482-482a-a7f0-04c016e7d5d2",
   "metadata": {},
   "outputs": [
    {
     "data": {
      "text/plain": [
       "ResLLMFetchDataset(query='Find banks and pharmacies in Toronto', queryStatus='Valid', message='', requestStatus='Processed', fetch_dataset_request=ReqFetchDataset(lat=None, lng=None, user_id='', prdcer_lyr_id='', city_name='Toronto', country_name='Canada', boolean_query='banks AND pharmacies', action='', page_token='', search_type='default', text_search='', zoom_level=0, radius=30000.0), cost='')"
      ]
     },
     "execution_count": 42,
     "metadata": {},
     "output_type": "execute_result"
    }
   ],
   "source": [
    "outputResponse"
   ]
  },
  {
   "cell_type": "code",
   "execution_count": 38,
   "id": "3b6403fb-7933-43fa-9f6a-6ba7325ebacb",
   "metadata": {},
   "outputs": [
    {
     "data": {
      "text/plain": [
       "True"
      ]
     },
     "execution_count": 38,
     "metadata": {},
     "output_type": "execute_result"
    }
   ],
   "source": [
    "isinstance(outputResponse,ResLLMFetchDataset)"
   ]
  },
  {
   "cell_type": "code",
   "execution_count": 39,
   "id": "5c0c3821-e6aa-4f58-8153-c2a204b64bca",
   "metadata": {},
   "outputs": [
    {
     "ename": "SyntaxError",
     "evalue": "expected '(' (2810423022.py, line 1)",
     "output_type": "error",
     "traceback": [
      "\u001b[1;36m  Cell \u001b[1;32mIn[39], line 1\u001b[1;36m\u001b[0m\n\u001b[1;33m    def cost_calculator:\u001b[0m\n\u001b[1;37m                       ^\u001b[0m\n\u001b[1;31mSyntaxError\u001b[0m\u001b[1;31m:\u001b[0m expected '('\n"
     ]
    }
   ],
   "source": [
    "def cost_calculator():\n",
    "    \n"
   ]
  },
  {
   "cell_type": "code",
   "execution_count": 40,
   "id": "c8b41e0a-1a3e-4165-91be-078cc3c80587",
   "metadata": {},
   "outputs": [],
   "source": [
    "def calculate_cost(Request: ResLLMFetchDataset):\n",
    "    api_requests = [Request.fetch_dataset_request]\n",
    "    API_ENDPOINT = \"http://37.27.195.216:8000/fastapi/cost_calculator\"\n",
    "    responses = []\n",
    "    total_cost = 0\n",
    "    \n",
    "    for api_request in api_requests:\n",
    "        try:\n",
    "            payload = {\n",
    "                \"message\": \"Cost calculation request from LLM\",\n",
    "                \"request_info\": {},  # Add relevant request info if needed\n",
    "                \"request_body\": api_request.dict()\n",
    "            }\n",
    "            \n",
    "            response = requests.post(\n",
    "                API_ENDPOINT,\n",
    "                json=payload\n",
    "            )\n",
    "            response.raise_for_status()\n",
    "            total_cost += response.json()[\"data\"][\"cost\"]\n",
    "            responses.append(response.json())\n",
    "        except requests.exceptions.RequestException as e:\n",
    "            responses.append({\"error\": f\"API request failed for {api_request}: {e}\"})\n",
    "    Request.cost = str(total_cost)\n",
    "\n",
    "    return Request"
   ]
  },
  {
   "cell_type": "code",
   "execution_count": 43,
   "id": "6ab864a0-c613-4b2a-b94f-4f226114bccd",
   "metadata": {},
   "outputs": [
    {
     "data": {
      "text/plain": [
       "ResLLMFetchDataset(query='Find banks and pharmacies in Toronto', queryStatus='Valid', message='', requestStatus='Processed', fetch_dataset_request=ReqFetchDataset(lat=None, lng=None, user_id='', prdcer_lyr_id='', city_name='Toronto', country_name='Canada', boolean_query='banks AND pharmacies', action='', page_token='', search_type='default', text_search='', zoom_level=0, radius=30000.0), cost='0.4')"
      ]
     },
     "execution_count": 43,
     "metadata": {},
     "output_type": "execute_result"
    }
   ],
   "source": [
    "calculate_cost(outputResponse)"
   ]
  },
  {
   "cell_type": "code",
   "execution_count": null,
   "id": "458e5899-40af-4536-9958-fc1299e4c6b8",
   "metadata": {},
   "outputs": [],
   "source": [
    "def process_llm_query(Request:ReqLLMFetchDataset):\n",
    "    model = ChatOpenAI(model_name=\"gpt-4-turbo-preview\", temperature=0.0)\n",
    "\n",
    "    parser = PydanticOutputParser(pydantic_object=ResLLMFetchDataset)\n",
    "    \n",
    "    prompt = PromptTemplate(\n",
    "        template=\"{system_message}.\\n{format_instructions}\\n{query}\\n\",\n",
    "        input_variables=[\"query\"],\n",
    "        partial_variables={\"format_instructions\": parser.get_format_instructions()},\n",
    "    )\n",
    "    \n",
    "    # And a query intended to prompt a language model to populate the data structure.\n",
    "    prompt_and_model = prompt | model\n",
    "    output = prompt_and_model.invoke({\"query\": \"Find banks and pharmacies in Toronto\",\"system_message\":system_message})\n",
    "    outputResponse = parser.invoke(output)\n",
    "    if outputResponse.fetch_dataset_request is None:\n",
    "        return outputResponse\n",
    "    else:\n",
    "        return calculate_cost(outputResponse)\n",
    "    "
   ]
  }
 ],
 "metadata": {
  "kernelspec": {
   "display_name": "Python 3 (ipykernel)",
   "language": "python",
   "name": "python3"
  },
  "language_info": {
   "codemirror_mode": {
    "name": "ipython",
    "version": 3
   },
   "file_extension": ".py",
   "mimetype": "text/x-python",
   "name": "python",
   "nbconvert_exporter": "python",
   "pygments_lexer": "ipython3",
   "version": "3.11.4"
  }
 },
 "nbformat": 4,
 "nbformat_minor": 5
}
